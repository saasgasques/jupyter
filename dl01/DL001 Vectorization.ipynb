{
 "cells": [
  {
   "cell_type": "code",
   "execution_count": 4,
   "metadata": {},
   "outputs": [
    {
     "name": "stdout",
     "output_type": "stream",
     "text": [
      "[1 2 3 4]\n"
     ]
    }
   ],
   "source": [
    "import numpy as np\n",
    "\n",
    "a = np.array([1,2,3,4])\n",
    "print(a)\n"
   ]
  },
  {
   "cell_type": "markdown",
   "metadata": {},
   "source": [
    "## Iteration & Vetorization"
   ]
  },
  {
   "cell_type": "code",
   "execution_count": 21,
   "metadata": {},
   "outputs": [
    {
     "name": "stdout",
     "output_type": "stream",
     "text": [
      "Vectorized version 10.000228881835938 ms\n",
      "For loop 89.99991416931152 ms\n"
     ]
    }
   ],
   "source": [
    "import time\n",
    "\n",
    "a = np.random.rand(1000000)\n",
    "b = np.random.rand(1000000)\n",
    "\n",
    "tic = time.time()\n",
    "c = np.dot(a,b)\n",
    "toc = time.time()\n",
    "\n",
    "print('Vectorized version ' + str(1000*(toc-tic)) + ' ms')\n",
    "\n",
    "c = 0\n",
    "tic = time.time()\n",
    "for i in range(100000):\n",
    "    c += a[i]*b[i]\n",
    "        \n",
    "toc = time.time()\n",
    "\n",
    "print('For loop ' + str(1000*(toc-tic)) + ' ms')"
   ]
  },
  {
   "cell_type": "markdown",
   "metadata": {},
   "source": [
    "## Python broadcasting & Octave bsxfun"
   ]
  },
  {
   "cell_type": "code",
   "execution_count": 25,
   "metadata": {},
   "outputs": [
    {
     "name": "stdout",
     "output_type": "stream",
     "text": [
      "[  58.2  239.   155.4   76.9]\n",
      "Traspose Cal [[  58.2]\n",
      " [ 239. ]\n",
      " [ 155.4]\n",
      " [  76.9]]\n",
      "Per [[ 96.21993127   0.           2.83140283  88.42652796]\n",
      " [  2.06185567  43.51464435  33.46203346  10.40312094]\n",
      " [  1.71821306  56.48535565  63.70656371   1.17035111]]\n",
      "Shape Per (3, 4)\n",
      "[-0.19185967 -0.66244032 -2.38445936 -0.27344586  0.60349552]\n",
      "[ 0.35606925  0.38961266  0.22302452  0.69850223  0.69195159]\n",
      "(5,)\n",
      "(5, 1)\n",
      "(5, 1)\n"
     ]
    }
   ],
   "source": [
    "import numpy as np\n",
    "\n",
    "A = np.array([[56.0, 0.0, 4.4, 68.0],\n",
    "              [1.2, 104.0, 52.0, 8.0],\n",
    "              [1.0, 135.0, 99.0, 0.9]])\n",
    "cal = A.sum(axis=0)\n",
    "print(cal)\n",
    "\n",
    "rcal = cal.reshape(4,1);\n",
    "print('Traspose Cal ' + str(rcal))\n",
    "\n",
    "per = 100*A/cal # 3x4 / 1x4 It's not necesary to transpose cal\n",
    "print('Per ' + str(per))\n",
    "print('Shape Per ' + str(per.shape))\n",
    "\n",
    "print(np.random.randn(5))\n",
    "print(np.random.rand(5))\n",
    "print((np.random.rand(5)).shape)\n",
    "print((np.random.rand(5,1)).shape)\n",
    "print((np.random.rand(5)).reshape(5,1).shape)"
   ]
  },
  {
   "cell_type": "code",
   "execution_count": 32,
   "metadata": {},
   "outputs": [
    {
     "name": "stdout",
     "output_type": "stream",
     "text": [
      "[[ 1.67089946  1.99070839  0.01517352]\n",
      " [ 5.455292    0.46375727  3.33572571]\n",
      " [ 0.74652249  2.24134947  1.61702695]]\n"
     ]
    }
   ],
   "source": [
    "import numpy as np\n",
    "\n",
    "a = np.random.randn(3, 3)\n",
    "b = np.random.randn(3, 1)\n",
    "c = a*b\n",
    "\n",
    "print(c)"
   ]
  },
  {
   "cell_type": "code",
   "execution_count": 2,
   "metadata": {},
   "outputs": [
    {
     "name": "stdout",
     "output_type": "stream",
     "text": [
      "(4, 1)\n"
     ]
    }
   ],
   "source": [
    "import numpy as np\n",
    "\n",
    "A = np.random.randn(4,3)\n",
    "B = np.sum(A, axis = 1, keepdims = True)\n",
    "print(B.shape)"
   ]
  },
  {
   "cell_type": "code",
   "execution_count": null,
   "metadata": {
    "collapsed": true
   },
   "outputs": [],
   "source": []
  }
 ],
 "metadata": {
  "kernelspec": {
   "display_name": "Python 3",
   "language": "python",
   "name": "python3"
  },
  "language_info": {
   "codemirror_mode": {
    "name": "ipython",
    "version": 3
   },
   "file_extension": ".py",
   "mimetype": "text/x-python",
   "name": "python",
   "nbconvert_exporter": "python",
   "pygments_lexer": "ipython3",
   "version": "3.6.1"
  }
 },
 "nbformat": 4,
 "nbformat_minor": 2
}
